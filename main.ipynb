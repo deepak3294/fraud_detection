{
 "cells": [
  {
   "cell_type": "code",
   "execution_count": null,
   "id": "534f6c11",
   "metadata": {},
   "outputs": [],
   "source": [
    "import pandas as pd\n",
    "from sklearn.model_selection import train_test_split\n",
    "from sklearn.metrics import classification_report, accuracy_score\n",
    "import xgboost as xgb \n",
    "import os\n",
    "import numpy as np"
   ]
  },
  {
   "cell_type": "code",
   "execution_count": null,
   "id": "80fbc899",
   "metadata": {},
   "outputs": [],
   "source": [
    "# DATA LOADING (Loading all .pkl files from 'data/')\n",
    "DATA_DIR = 'data/'\n",
    "TARGET_COLUMN = 'TX_FRAUD' \n",
    "# Manual threshold to balance Precision and Recall, reduces False Positives\n",
    "CLASSIFICATION_THRESHOLD = 0.90 "
   ]
  },
  {
   "cell_type": "code",
   "execution_count": null,
   "id": "2f94d24d",
   "metadata": {},
   "outputs": [],
   "source": [
    "file_names = [\n",
    "    '2018-09-01.pkl', '2018-09-02.pkl', '2018-09-03.pkl', '2018-09-04.pkl',\n",
    "    '2018-09-05.pkl', '2018-09-06.pkl', '2018-09-07.pkl', '2018-09-08.pkl',\n",
    "    '2018-09-09.pkl', '2018-09-10.pkl', '2018-09-11.pkl', '2018-09-12.pkl',\n",
    "    '2018-09-13.pkl', '2018-09-14.pkl', '2018-09-15.pkl', '2018-09-16.pkl',\n",
    "    '2018-09-17.pkl', '2018-09-18.pkl', '2018-09-19.pkl', '2018-09-20.pkl', \n",
    "    '2018-09-21.pkl', '2018-09-22.pkl', '2018-09-23.pkl', '2018-09-24.pkl',\n",
    "    '2018-09-25.pkl', '2018-09-26.pkl', '2018-09-27.pkl', '2018-09-28.pkl',\n",
    "    '2018-09-29.pkl', '2018-09-30.pkl'\n",
    "]\n",
    "# try to create relative path, data/.pkl\n",
    "file_paths = [os.path.join(DATA_DIR, name) for name in file_names]\n",
    "list_of_dfs = []\n",
    "print(\"Loading Pickle files...\")"
   ]
  },
  {
   "cell_type": "code",
   "execution_count": null,
   "id": "25bd9939",
   "metadata": {},
   "outputs": [],
   "source": [
    "for filepath in file_paths:\n",
    "    try:\n",
    "        daily_df = pd.read_pickle(filepath)\n",
    "        list_of_dfs.append(daily_df)\n",
    "    except Exception as e:\n",
    "        print(f\"ERROR reading {filepath}: {e}.\")"
   ]
  },
  {
   "cell_type": "code",
   "execution_count": null,
   "id": "d3e4805e",
   "metadata": {},
   "outputs": [],
   "source": [
    "df = pd.concat(list_of_dfs, ignore_index=True)"
   ]
  },
  {
   "cell_type": "code",
   "execution_count": null,
   "id": "4652fe3f",
   "metadata": {},
   "outputs": [],
   "source": [
    "if df.empty:\n",
    "    print(\"\\nFatal Error: Could not load any data. Exiting.\")\n",
    "    exit()"
   ]
  },
  {
   "cell_type": "code",
   "execution_count": null,
   "id": "0083681e",
   "metadata": {},
   "outputs": [],
   "source": [
    "print(\"All data loaded and combined successfully.\")\n",
    "print(f\"Total transactions loaded: {len(df)}\")\n",
    "print(\"-\" * 30)"
   ]
  },
  {
   "cell_type": "code",
   "execution_count": null,
   "id": "ba50a3d1",
   "metadata": {},
   "outputs": [],
   "source": [
    "# Convert object columns to numeric types for XGBoost\n",
    "COLS_TO_CONVERT = ['CUSTOMER_ID', 'TERMINAL_ID', 'TX_AMOUNT', 'TX_TIME_SECONDS', 'TX_TIME_DAYS']\n",
    "for col in COLS_TO_CONVERT:\n",
    "    df[col] = pd.to_numeric(df[col], errors='coerce')\n",
    "df.fillna(0, inplace=True)"
   ]
  },
  {
   "cell_type": "code",
   "execution_count": null,
   "id": "951ef45f",
   "metadata": {},
   "outputs": [],
   "source": [
    "# Define features (X) and target (y)\n",
    "columns_to_drop = [TARGET_COLUMN, 'TRANSACTION_ID', 'TX_DATETIME', 'TX_FRAUD_SCENARIO']\n",
    "X = df.drop(columns=columns_to_drop, errors='ignore')\n",
    "y = df[TARGET_COLUMN].astype(int)"
   ]
  },
  {
   "cell_type": "code",
   "execution_count": null,
   "id": "35933c27",
   "metadata": {},
   "outputs": [],
   "source": [
    "X_train, X_test, y_train, y_test = train_test_split(X, y, test_size=0.3, random_state=42, stratify=y)"
   ]
  },
  {
   "cell_type": "code",
   "execution_count": null,
   "id": "5e295d49",
   "metadata": {},
   "outputs": [],
   "source": [
    "# Calculate the ratio to weight the positive (Fraud) class\n",
    "ratio = float(np.sum(y_train == 0)) / np.sum(y_train == 1)"
   ]
  },
  {
   "cell_type": "code",
   "execution_count": null,
   "id": "e6c43afb",
   "metadata": {},
   "outputs": [],
   "source": [
    "# Initialize the XGBoost Classifier\n",
    "model = xgb.XGBClassifier(\n",
    "    n_estimators=100,\n",
    "    random_state=42,\n",
    "    # use_label_encoder=False, \n",
    "    eval_metric='logloss', \n",
    "    scale_pos_weight=ratio,     # Weights fraud samples highly (boosts Recall)\n",
    "    n_jobs=-1,                  # Uses all CPU cores (boosts Speed)\n",
    "    tree_method='hist',         # Faster method\n",
    "    learning_rate=0.1,          \n",
    "    max_depth=5                 \n",
    ")\n",
    "# MODEL TRAINING\n",
    "print(\"Training the XGBoost model...\")\n",
    "model.fit(X_train, y_train)\n",
    "print(\"Training complete! XGBoost model fitted successfully.\")\n",
    "print(\"-\" * 30)"
   ]
  },
  {
   "cell_type": "code",
   "execution_count": null,
   "id": "a880b33e",
   "metadata": {},
   "outputs": [],
   "source": [
    "# Get probabilities for the test set\n",
    "y_proba = model.predict_proba(X_test)[:, 1]"
   ]
  },
  {
   "cell_type": "code",
   "execution_count": null,
   "id": "1ecd1480",
   "metadata": {},
   "outputs": [],
   "source": [
    "# uses classification threshold value to generate the final prediction\n",
    "y_pred_tuned = (y_proba >= CLASSIFICATION_THRESHOLD).astype(int)"
   ]
  },
  {
   "cell_type": "code",
   "execution_count": null,
   "id": "379292c2",
   "metadata": {
    "lines_to_next_cell": 2
   },
   "outputs": [],
   "source": [
    "print(f\" Model Evaluation (XGBoost) - THRESHOLD: {CLASSIFICATION_THRESHOLD}\")\n",
    "print(\"Classification Report:\\n\", classification_report(y_test, y_pred_tuned, target_names=['Not Fraud (0)', 'Fraud (1)']))\n",
    "print(\"-\" * 30)"
   ]
  },
  {
   "cell_type": "code",
   "execution_count": null,
   "id": "a9bd318c",
   "metadata": {},
   "outputs": [],
   "source": [
    "# PREDICTION ON NEW DATA\n",
    "new_data = pd.DataFrame({\n",
    "    'CUSTOMER_ID': [1001, 1002, 1003, 1004],\n",
    "    'TERMINAL_ID': [50, 12, 99, 50],\n",
    "    'TX_AMOUNT': [6500.00, 50.50, 15000.00, 95.00],\n",
    "    'TX_TIME_SECONDS': [50.0, 3600.0, 10.0, 7500.0],\n",
    "    'TX_TIME_DAYS': [11, 11, 11, 11]\n",
    "})"
   ]
  },
  {
   "cell_type": "code",
   "execution_count": null,
   "id": "625b3202",
   "metadata": {},
   "outputs": [],
   "source": [
    "# Ensure the new data columns are also numeric\n",
    "for col in COLS_TO_CONVERT:\n",
    "    new_data[col] = pd.to_numeric(new_data[col], errors='coerce').fillna(0)"
   ]
  },
  {
   "cell_type": "code",
   "execution_count": null,
   "id": "4acaeed2",
   "metadata": {},
   "outputs": [],
   "source": [
    "# Use the trained model to get probabilities for new data\n",
    "new_probabilities = model.predict_proba(new_data)[:, 1] "
   ]
  },
  {
   "cell_type": "code",
   "execution_count": null,
   "id": "9032e7da",
   "metadata": {},
   "outputs": [],
   "source": [
    "# Apply the manual threshold for final prediction\n",
    "new_predictions_tuned = (new_probabilities >= CLASSIFICATION_THRESHOLD).astype(int)"
   ]
  },
  {
   "cell_type": "code",
   "execution_count": null,
   "id": "09e5b620",
   "metadata": {},
   "outputs": [],
   "source": [
    "new_data['Predicted_Fraud'] = new_predictions_tuned\n",
    "new_data['Fraud_Probability'] = new_probabilities"
   ]
  },
  {
   "cell_type": "code",
   "execution_count": null,
   "id": "c2d66d39",
   "metadata": {},
   "outputs": [],
   "source": [
    "# Display the results\n",
    "print(\"Prediction Results (XGBoost Tuned)\")\n",
    "print(new_data[['TX_AMOUNT', 'Predicted_Fraud', 'Fraud_Probability']])"
   ]
  },
  {
   "cell_type": "code",
   "execution_count": null,
   "id": "ab8dc881",
   "metadata": {},
   "outputs": [],
   "source": [
    "print(f\"\\nInterpretation (Threshold {CLASSIFICATION_THRESHOLD}):\")\n",
    "print(f\"Transaction 1 (Amount {new_data.iloc[0]['TX_AMOUNT']:.2f}): Predicted {'FRAUD' if new_predictions_tuned[0] == 1 else 'NOT FRAUD'} with a probability of {new_probabilities[0]:.2f}\")\n",
    "print(f\"Transaction 3 (Amount {new_data.iloc[2]['TX_AMOUNT']:.2f}): Predicted {'FRAUD' if new_predictions_tuned[2] == 1 else 'NOT FRAUD'} with a probability of {new_probabilities[2]:.2f}\")"
   ]
  }
 ],
 "metadata": {
  "jupytext": {
   "cell_metadata_filter": "-all",
   "main_language": "python",
   "notebook_metadata_filter": "-all"
  }
 },
 "nbformat": 4,
 "nbformat_minor": 5
}
